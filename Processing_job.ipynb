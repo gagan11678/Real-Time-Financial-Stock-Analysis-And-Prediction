{
 "cells": [
  {
   "cell_type": "code",
   "execution_count": 2,
   "id": "0b0a86a0-d71b-4eea-8d87-9c238723b73c",
   "metadata": {
    "execution": {
     "iopub.execute_input": "2025-04-03T12:27:57.215883Z",
     "iopub.status.busy": "2025-04-03T12:27:57.214819Z",
     "iopub.status.idle": "2025-04-03T12:28:00.349117Z",
     "shell.execute_reply": "2025-04-03T12:28:00.348250Z",
     "shell.execute_reply.started": "2025-04-03T12:27:57.215841Z"
    }
   },
   "outputs": [
    {
     "name": "stdout",
     "output_type": "stream",
     "text": [
      "sagemaker.config INFO - Applied value from config key = SageMaker.PythonSDK.Modules.Session.DefaultS3Bucket\n",
      "sagemaker.config INFO - Applied value from config key = SageMaker.PythonSDK.Modules.Session.DefaultS3ObjectKeyPrefix\n",
      "sagemaker.config INFO - Applied value from config key = SageMaker.PythonSDK.Modules.Session.DefaultS3Bucket\n",
      "sagemaker.config INFO - Applied value from config key = SageMaker.PythonSDK.Modules.Session.DefaultS3ObjectKeyPrefix\n",
      "sagemaker.config INFO - Applied value from config key = SageMaker.ProcessingJob.NetworkConfig.VpcConfig.Subnets\n",
      "sagemaker.config INFO - Applied value from config key = SageMaker.ProcessingJob.NetworkConfig.VpcConfig.SecurityGroupIds\n"
     ]
    },
    {
     "data": {
      "text/plain": [
       "<sagemaker.workflow.pipeline_context._StepArguments at 0x7f5c5c296490>"
      ]
     },
     "execution_count": 2,
     "metadata": {},
     "output_type": "execute_result"
    }
   ],
   "source": [
    "from sagemaker.processing import ScriptProcessor\n",
    "from sagemaker import get_execution_role\n",
    "from sagemaker.workflow.pipeline_context import PipelineSession\n",
    "\n",
    "# Set up execution role and session\n",
    "role = get_execution_role()\n",
    "session = PipelineSession()\n",
    "\n",
    "# Define the processor (PyTorch with Python 3.10)\n",
    "processor = ScriptProcessor(\n",
    "    image_uri=\"763104351884.dkr.ecr.us-east-1.amazonaws.com/pytorch-inference:2.0.0-cpu-py310\",\n",
    "    command=[\"python3\"],\n",
    "    role=role,\n",
    "    instance_count=1,\n",
    "    instance_type=\"ml.m5.large\",\n",
    "    base_job_name=\"stock-ingestion-job\",\n",
    "    sagemaker_session=session\n",
    ")\n",
    "\n",
    "# Run your script\n",
    "processor.run(\n",
    "    code=\"ingest.py\",  # your local script\n",
    "    source_dir=\".\",    # current working directory\n",
    "    wait=True,\n",
    "    logs=True\n",
    ")\n"
   ]
  }
 ],
 "metadata": {
  "kernelspec": {
   "display_name": "Python 3 (ipykernel)",
   "language": "python",
   "name": "python3"
  },
  "language_info": {
   "codemirror_mode": {
    "name": "ipython",
    "version": 3
   },
   "file_extension": ".py",
   "mimetype": "text/x-python",
   "name": "python",
   "nbconvert_exporter": "python",
   "pygments_lexer": "ipython3",
   "version": "3.12.7"
  }
 },
 "nbformat": 4,
 "nbformat_minor": 5
}
